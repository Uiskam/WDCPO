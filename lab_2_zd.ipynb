{
  "cells": [
    {
      "cell_type": "markdown",
      "source": [
        "# Zadanie domowe\n",
        "\n",
        "W przypadku obrazów w odcieniach szarości pojedynczy piksel z zakresu [0; 255] reprezentowany jest jako 8-bitowa liczba bez znaku.\n",
        "Pewnym rozszerzeniem analizy sposobu reprezentacji obrazu może być następujący eksperyment.\n",
        "Załóżmy, że z każdego z 8 bitów możemy stworzyć pojedynczy obraz binarny (ang. _bit-plane slicing_).\n",
        "Dla obrazka _100zloty.jpg_ (https://raw.githubusercontent.com/vision-agh/poc_sw/master/02_Point/100zloty.jpg) stwórz 8 obrazów, z których każdy powinien zawierać jedną płaszczyznę bitową.\n",
        "Podpowiedź $-$ warto sprawdzić, jak realizuje się bitowe operacje logiczne.\n",
        "Zastosowanie takiej dekompozycji obrazu pozwala na analizę ,,ważności'' poszczególnych bitów.\n",
        "Jest to użyteczne w kwantyzacji, ale także w kompresji.\n",
        "\n",
        "W drugim etapie zadania proszę spróbować odtworzyć obraz oryginalny z mniejszej liczby obrazów binarnych.\n",
        "Warto zacząć od dwóch najbardziej znaczących bitów, a później dodawać kolejne.\n",
        "Należy utworzyć co najmniej trzy wersje zrekonstruowanych obrazów.\n",
        "Podpowiedź $-$ rekonstrukcja obrazu to mnożenie przez odpowiednią potęgę liczby 2 (przesunięcie bitowe) oraz dodawanie."
      ],
      "metadata": {
        "collapsed": false,
        "id": "m5Q2hnDC3NuL"
      }
    },
    {
      "cell_type": "code",
      "source": [
        "import cv2\n",
        "import os\n",
        "import requests\n",
        "import matplotlib.pyplot as plt\n",
        "import numpy as np\n",
        "import copy\n",
        "\n",
        "url = 'https://raw.githubusercontent.com/vision-agh/poc_sw/master/02_Point/'\n",
        "fileName = '100zloty.jpg'\n",
        "if not os.path.exists(fileName) :\n",
        "    r = requests.get(url + fileName, allow_redirects=True)\n",
        "    open(fileName, 'wb').write(r.content)\n",
        "\n",
        "def bit_slice(img, mask, mask_level, show_mode):\n",
        "  if show_mode == 1:\n",
        "    f, ax1 = plt.subplots(1,1)\n",
        "    ax1.imshow(cv2.bitwise_and(img, mask))\n",
        "    ax1.set_axis_off()\n",
        "    ax1.set_title('slice throught bit ' + str(mask_level))\n",
        "    plt.show()\n",
        "  else:\n",
        "    return cv2.bitwise_and(img, mask)\n",
        "\n",
        "def bit_unslice(img0, img1, mask_level):\n",
        "  result = cv2.bitwise_or(img0, img1)\n",
        "  f, ax1 = plt.subplots(1,1)\n",
        "  ax1.imshow(result)\n",
        "  ax1.set_axis_off()\n",
        "  ax1.set_title('combined bits ' + str(mask_level))\n",
        "  plt.show()\n",
        "  return result\n",
        "\n",
        "money = plt.imread('100zloty.jpg')\n",
        "grey_money = cv2.cvtColor(money, cv2.COLOR_BGR2GRAY)\n",
        "grey_money_x, grey_money_y = grey_money.shape\n",
        "plt.axis('off')\n",
        "plt.gray()\n",
        "plt.title('original grey scale')\n",
        "plt.imshow(grey_money)\n",
        "\n",
        "bitmask = np.ones(grey_money.shape).astype('uint8')\n",
        "bit_sliced_images = np.ndarray((8, grey_money_x, grey_money_y), dtype='uint8')\n",
        "\n",
        "'''\n",
        "dla mode = 0 program zwróci wszysktie obrazy binarne\n",
        "dla mode = 1 program zwróci stopniową rekonstrukcję obrazu pierwotnego\n",
        "'''\n",
        "mode = 0\n",
        "for i in range(8):\n",
        "  if mode == 0:  \n",
        "    bit_slice(grey_money, bitmask, i, 1)\n",
        "  else:\n",
        "    bit_sliced_images[i] = bit_slice(grey_money, bitmask, i, 0)\n",
        "  bitmask = bitmask * 2\n",
        "\n",
        "if mode == 1:\n",
        "  combined = copy.deepcopy(bit_sliced_images[7])\n",
        "  for i in range(7,-1,-1):\n",
        "    combined = bit_unslice(combined, bit_sliced_images[i], 'from 7 to ' + str(i))\n"
      ],
      "metadata": {
        "id": "tsKtFztv4T2l"
      },
      "execution_count": null,
      "outputs": []
    }
  ],
  "metadata": {
    "kernelspec": {
      "display_name": "Python 3",
      "language": "python",
      "name": "python3"
    },
    "language_info": {
      "codemirror_mode": {
        "name": "ipython",
        "version": 2
      },
      "file_extension": ".py",
      "mimetype": "text/x-python",
      "name": "python",
      "nbconvert_exporter": "python",
      "pygments_lexer": "ipython2",
      "version": "2.7.6"
    },
    "colab": {
      "provenance": []
    }
  },
  "nbformat": 4,
  "nbformat_minor": 0
}